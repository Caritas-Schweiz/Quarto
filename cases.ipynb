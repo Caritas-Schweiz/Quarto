{
  "cells": [
    {
      "cell_type": "raw",
      "metadata": {},
      "source": [
        "---\n",
        "title: Falldaten Übersicht\n",
        "execute:\n",
        "  echo: false\n",
        "---"
      ],
      "id": "4f23f461"
    },
    {
      "cell_type": "markdown",
      "metadata": {},
      "source": [
        "Verteilung der Beratungstypen.\n"
      ],
      "id": "87180982"
    },
    {
      "cell_type": "code",
      "metadata": {},
      "source": [
        "import pandas as pd\n",
        "import plotly.express as px\n",
        "\n",
        "data = pd.read_csv(\"Falldaten_CaritasbB.csv\", sep=';')  # Use semicolon or another character if you suspect a different delimiter\n",
        "\n",
        "# Pie chart for the distribution of event types\n",
        "event_types_data = data['Ereignis_EreignisartID'].value_counts().reset_index()\n",
        "event_types_data.columns = ['Event Type', 'Count']\n",
        "\n",
        "fig_event_types = px.pie(event_types_data, values='Count', names='Event Type', title='Distribution of type of contact ')\n",
        "fig_event_types.show()"
      ],
      "id": "602e9b97",
      "execution_count": null,
      "outputs": []
    },
    {
      "cell_type": "markdown",
      "metadata": {},
      "source": [
        "Anzahl Fälle gruppiert nach Beratungsthema und Jahr.\n"
      ],
      "id": "3dba6fa7"
    },
    {
      "cell_type": "code",
      "metadata": {},
      "source": [
        "import numpy as np\n",
        "import pandas as pd\n",
        "import plotly.express as px\n",
        "\n",
        "case_data = pd.read_csv('Falldaten_CaritasbB.csv', delimiter=';')\n",
        "\n",
        "case_data['Datum_Leistung'] = pd.to_datetime(case_data['Datum_Leistung'], errors='coerce')\n",
        "case_data['Datum_Registrierung_Client'] = pd.to_datetime(case_data['Datum_Registrierung_Client'], errors='coerce')\n",
        "\n",
        "case_data['Leistung_Year'] = case_data['Datum_Leistung'].dt.year\n",
        "case_data['Registrierung'] = case_data['Datum_Registrierung_Client'].dt.year\n",
        "\n",
        "# Aggregate the counts of each category by year\n",
        "hauptart_category_counts = case_data[case_data['Leistung_Year'].isin([2022, 2023, 2024])] \\\n",
        "                    .groupby(['Leistung_Year', 'Hauptart']).size() \\\n",
        "                    .reset_index(name='Counts')\n",
        "\n",
        "# Initialize a figure\n",
        "hauptart_fig = go.Figure()\n",
        "\n",
        "# Retrieve unique years and categories\n",
        "hauptart_years = sorted(hauptart_category_counts['Leistung_Year'].unique())\n",
        "hauptart_categories = hauptart_category_counts['Hauptart'].unique()\n",
        "\n",
        "# Create a bar for each year\n",
        "for year in hauptart_years:\n",
        "    filtered_data = hauptart_category_counts[hauptart_category_counts['Leistung_Year'] == year]\n",
        "    hauptart_fig.add_trace(go.Bar(\n",
        "        x=filtered_data['Hauptart'],\n",
        "        y=filtered_data['Counts'],\n",
        "        name=str(year)  # Name the bars as per the year\n",
        "    ))\n",
        "\n",
        "# Update the layout for grouped bars\n",
        "hauptart_fig.update_layout(\n",
        "    barmode='group',  # This makes bars appear next to each other instead of stacking\n",
        "    title='Category Distribution by Year',\n",
        "    xaxis_title='Category',\n",
        "    yaxis_title='Count',\n",
        "    legend_title='Year',\n",
        "    plot_bgcolor='white',\n",
        "    legend=dict(\n",
        "        yanchor=\"top\",\n",
        "        y=0.99,\n",
        "        xanchor=\"right\",\n",
        "        x=0.99\n",
        "    )\n",
        ")\n",
        "\n",
        "# Show the plot\n",
        "hauptart_fig.show()"
      ],
      "id": "31d62a11",
      "execution_count": null,
      "outputs": []
    }
  ],
  "metadata": {
    "kernelspec": {
      "name": "python3",
      "language": "python",
      "display_name": "Python 3 (ipykernel)"
    }
  },
  "nbformat": 4,
  "nbformat_minor": 5
}