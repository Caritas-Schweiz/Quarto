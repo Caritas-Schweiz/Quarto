{
  "cells": [
    {
      "cell_type": "raw",
      "metadata": {},
      "source": [
        "---\n",
        "title: Finanzbedarf\n",
        "execute:\n",
        "  echo: false\n",
        "---"
      ],
      "id": "e862edc4"
    },
    {
      "cell_type": "markdown",
      "metadata": {},
      "source": [
        "Unterkategorien Finanzbedarf."
      ],
      "id": "f24b8f07"
    },
    {
      "cell_type": "code",
      "metadata": {},
      "source": [
        "import plotly.express as px\n",
        "import numpy as np\n",
        "import pandas as pd\n",
        "\n",
        "case_data = pd.read_csv('Falldaten_CaritasbB.csv', delimiter=';')\n",
        "\n",
        "# Extract the Year\n",
        "case_data['Leistung_Year'] = case_data['Datum_Leistung'].dt.year\n",
        "case_data['Registrierung'] = case_data['Datum_Registrierung_Client'].dt.year\n",
        "\n",
        "#Finanzbedarf subcategories\n",
        "\n",
        "case_data.columns\n",
        "\n",
        "# Filter data for 'Finanzbedarf' and for years 2022 and 2023\n",
        "finanz_subcat = case_data[\n",
        "    (case_data['Hauptart'] == '02 Finanzbedarf') &\n",
        "    (case_data['Leistung_Year'].isin([2022, 2023]))\n",
        "]\n",
        "\n",
        "# Ensure 'Materielle_G' is included\n",
        "print(finanz_subcat[['Leistung_Year', 'Hauptart', 'Materielle_G']].head())\n",
        "\n",
        "\n",
        "# Group by 'Year' and 'Materielle_G', then count the occurrences\n",
        "finanz_subcat_yearly_counts = finanz_subcat.groupby(['Leistung_Year', 'Materielle_G']).size().reset_index(name='Counts')\n",
        "\n",
        "\n",
        "#Create a Bar Graph\n",
        "graph_finanz_subcat = go.Figure()\n",
        "\n",
        "# Sort the years for consistent color coding\n",
        "years = sorted(finanz_subcat_yearly_counts['Leistung_Year'].unique())\n",
        "colors = ['blue', 'orange']  # Example colors for visual differentiation\n",
        "\n",
        "# Iterate over each year and add a bar trace for each\n",
        "for year, color in zip(years, colors):\n",
        "    filtered_data = finanz_subcat_yearly_counts[finanz_subcat_yearly_counts['Leistung_Year'] == year]\n",
        "    graph_finanz_subcat.add_trace(go.Bar(\n",
        "        x=filtered_data['Materielle_G'],\n",
        "        y=filtered_data['Counts'],\n",
        "        name=str(year),\n",
        "        marker_color=color\n",
        "    ))\n",
        "\n",
        "# Update the layout to group bars\n",
        "graph_finanz_subcat.update_layout(\n",
        "    barmode='group',\n",
        "    title='Change in Materielle_G Categories for 02 Finanzbedarf by Year',\n",
        "    xaxis_title=\"Materielle Goods Categories\",\n",
        "    yaxis_title=\"Number of Entries\",\n",
        "    legend_title=\"Year\",\n",
        "    plot_bgcolor='white',\n",
        "    legend=dict(\n",
        "        yanchor=\"top\",\n",
        "        y=0.99,\n",
        "        xanchor=\"right\",\n",
        "        x=0.99\n",
        "    )\n",
        ")\n",
        "\n",
        "# Show the plot\n",
        "graph_finanz_subcat.show()"
      ],
      "id": "cb42ab46",
      "execution_count": null,
      "outputs": []
    },
    {
      "cell_type": "markdown",
      "metadata": {},
      "source": [
        "Finanzbedarf pro Monat."
      ],
      "id": "f7783692"
    }
  ],
  "metadata": {
    "kernelspec": {
      "name": "python3",
      "language": "python",
      "display_name": "Python 3 (ipykernel)"
    }
  },
  "nbformat": 4,
  "nbformat_minor": 5
}